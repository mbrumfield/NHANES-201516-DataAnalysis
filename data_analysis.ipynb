{
 "cells": [
  {
   "cell_type": "code",
   "execution_count": 79,
   "metadata": {},
   "outputs": [
    {
     "name": "stdout",
     "output_type": "stream",
     "text": [
      "<class 'pandas.core.frame.DataFrame'>\n",
      "Int64Index: 5735 entries, 0 to 5734\n",
      "Data columns (total 17 columns):\n",
      " #   Column    Non-Null Count  Dtype  \n",
      "---  ------    --------------  -----  \n",
      " 0   SEQN      5735 non-null   float64\n",
      " 1   RIDRETH1  5735 non-null   float64\n",
      " 2   RIAGENDR  5735 non-null   float64\n",
      " 3   RIDAGEYR  5735 non-null   float64\n",
      " 4   DMDEDUC3  261 non-null    float64\n",
      " 5   DMDEDUC2  5474 non-null   float64\n",
      " 6   DMDMARTL  5474 non-null   float64\n",
      " 7   INDFMPIR  5134 non-null   float64\n",
      " 8   DPQ010    5164 non-null   float64\n",
      " 9   DPQ020    5164 non-null   float64\n",
      " 10  DPQ030    5164 non-null   float64\n",
      " 11  DPQ040    5162 non-null   float64\n",
      " 12  DPQ050    5162 non-null   float64\n",
      " 13  DPQ060    5162 non-null   float64\n",
      " 14  DPQ070    5161 non-null   float64\n",
      " 15  DPQ080    5161 non-null   float64\n",
      " 16  DPQ090    5161 non-null   float64\n",
      "dtypes: float64(17)\n",
      "memory usage: 806.5 KB\n",
      "None \n",
      "\n"
     ]
    },
    {
     "data": {
      "text/plain": [
       "5735"
      ]
     },
     "execution_count": 79,
     "metadata": {},
     "output_type": "execute_result"
    }
   ],
   "source": [
    "import os\n",
    "import glob\n",
    "import pandas as pd\n",
    "import numpy as np\n",
    "\n",
    "# Read the two csv files\n",
    "data1 = pd.read_csv('DPQ_I.csv')\n",
    "data2 = pd.read_csv('DEMO_I.csv')\n",
    "\n",
    "# Maybe start by merging the two files by SEQN column\n",
    "# Merge the two files with the SEQN column\n",
    "merged_data = pd.merge(data1, data2 , how='left', on='SEQN')\n",
    "\n",
    "# Only include the columns below in the DEMO_I spreadsheet\n",
    "# Race, Gender, Age, Education, Marital Status, and PIR\n",
    "merged_data = merged_data[['SEQN', 'RIDRETH1', 'RIAGENDR', 'RIDAGEYR', 'DMDEDUC3', 'DMDEDUC2', 'DMDMARTL', 'INDFMPIR',\n",
    "                           'DPQ010','DPQ020','DPQ030','DPQ040','DPQ050','DPQ060','DPQ070','DPQ080','DPQ090']]\n",
    "\n",
    "# Explore the dataset\n",
    "print(merged_data.info(), '\\n')\n",
    "merged_data.shape[0]"
   ]
  },
  {
   "cell_type": "code",
   "execution_count": 80,
   "metadata": {},
   "outputs": [
    {
     "name": "stdout",
     "output_type": "stream",
     "text": [
      "0.0    4731\n",
      "1.0     433\n",
      "Name: DEPRESSED, dtype: int64\n",
      "13.0    102\n",
      "15.0     54\n",
      "11.0     50\n",
      "12.0     21\n",
      "10.0      9\n",
      "14.0      5\n",
      "66.0      3\n",
      "9.0       2\n",
      "Name: DMDEDUC3, dtype: int64\n"
     ]
    }
   ],
   "source": [
    "# Data cleaning for the depression columns \n",
    "\n",
    "# Drop the rows that have nan for questions 1-9\n",
    "merged_data = merged_data[merged_data['DPQ010'].notna()]\n",
    "\n",
    "# Add the values of each row in the depression spreadsheet (DPQI_)\n",
    "merged_data['SCORE'] = merged_data['DPQ010'] + merged_data['DPQ020'] + merged_data['DPQ030'] + merged_data['DPQ040'] + merged_data['DPQ050'] + merged_data['DPQ060'] + merged_data['DPQ070'] + merged_data['DPQ080'] + merged_data['DPQ090']\n",
    "\n",
    "# If a participant had total PHQ-9 ≥ 10, the person is considered having depression.\n",
    "for index, row in merged_data.iterrows():\n",
    "    if merged_data.at[index,'SCORE'] >= 10:\n",
    "        merged_data.at[index,'DEPRESSED'] = 1\n",
    "    else:\n",
    "        merged_data.at[index,'DEPRESSED'] = 0\n",
    "\n",
    "# pandas count distinct values in column\n",
    "print(merged_data['DEPRESSED'].value_counts())\n",
    "print(merged_data['DMDEDUC3'].value_counts())"
   ]
  },
  {
   "cell_type": "code",
   "execution_count": 81,
   "metadata": {},
   "outputs": [],
   "source": [
    "# Data cleaning for demographics spreadsheet (DEMO_I)\n",
    "\n",
    "# merged_data = merged_data.dropna(subset=['RIDRETH1', 'RIAGENDR', 'RIDAGEYR', 'DMDEDUC3', 'DMDEDUC2', 'DMDMARTL', 'INDFMPIR'])\n",
    "\n",
    "# Only include participants with an age 18 or older \n",
    "merged_data = merged_data[merged_data['RIDAGEYR'] >= 18]  \n",
    "\n",
    "# Only include participants with an education level known for DMDEDUC2\n",
    "merged_data = merged_data[merged_data['DMDEDUC2'] != 9] \n",
    "\n",
    "for index, row in merged_data.iterrows():\n",
    "    \n",
    "    # Divide the data into two age groups\n",
    "    # 1.) Younger: 18-55 \n",
    "    # 2.) Older: 56+\n",
    "    if merged_data.at[index,'RIDAGEYR'] <= 55:\n",
    "        merged_data.at[index,'AGEGRP'] = 1\n",
    "    else:\n",
    "        merged_data.at[index,'AGEGRP'] = 2\n",
    "\n",
    "    # Divide the data into maritial status\n",
    "    # 1.) Married: 1\n",
    "    # 2.) Widowed/Divorced/Separated: 2, 3, 4 (combined)\n",
    "    # 3.) Never Married: 5\n",
    "    # 4.) Living with Partner: 6\n",
    "    if merged_data.at[index,'DMDMARTL'] == 1.0:\n",
    "        merged_data.at[index,'MARITALSTATUS'] = 1\n",
    "    elif merged_data.at[index,'DMDMARTL'] == 2.0 or merged_data.at[index,'DMDMARTL'] == 3.0 or merged_data.at[index,'DMDMARTL'] == 4.0:\n",
    "        merged_data.at[index,'MARITALSTATUS'] = 2\n",
    "    elif merged_data.at[index,'DMDMARTL'] == 5.0:\n",
    "        merged_data.at[index,'MARITALSTATUS'] = 3\n",
    "    else:\n",
    "        merged_data.at[index,'MARITALSTATUS'] = 4\n",
    "\n",
    "    # Divide the data into PIR (SES)\n",
    "    # 1.) Low: 0-1.36\n",
    "    # 2.) Medium: 1.37-4.99\n",
    "    # 3.) High: 5.00+\n",
    "    if merged_data.at[index,'INDFMPIR'] >= 5.00:\n",
    "        merged_data.at[index,'PIR'] = 3\n",
    "    elif merged_data.at[index,'INDFMPIR'] <= 4.99 and merged_data.at[index,'INDFMPIR'] >= 1.37:\n",
    "        merged_data.at[index,'PIR'] = 2\n",
    "    else:\n",
    "        merged_data.at[index,'PIR'] = 1\n",
    "\n",
    "    # Divide the data by education level\n",
    "    # 1.) Up to 11th grade: DMDEDUC3 = 0-11 & 66; DMDEDUC2 = 1-2\n",
    "    # 2.) High School or GED: DMDEDUC3 = 12-14; DMDEDUC2 = 3\n",
    "    # 3.) Some College or Associate Degree: DMDEDUC3 = 15; DMDEDUC2 = 4\n",
    "    # 4.) College Graduate or Above: DMDEDUC2 = 5\n",
    "    if merged_data.at[index,'DMDEDUC3'] <= 11 or merged_data.at[index,'DMDEDUC3'] == 66 or merged_data.at[index,'DMDEDUC2'] <= 2:\n",
    "        merged_data.at[index,'EDUCATION'] = 1\n",
    "    elif merged_data.at[index,'DMDEDUC3'] >= 12 or merged_data.at[index,'DMDEDUC3'] <= 13 or merged_data.at[index,'DMDEDUC3'] <= 14 or merged_data.at[index,'DMDEDUC2'] <= 3:\n",
    "        merged_data.at[index,'EDUCATION'] = 2\n",
    "    elif merged_data.at[index,'DMDEDUC3'] == 15 or merged_data.at[index,'DMDEDUC2'] == 4:\n",
    "        merged_data.at[index,'EDUCATION'] = 3\n",
    "    else:\n",
    "        merged_data.at[index,'EDUCATION'] = 4\n",
    "    \n",
    "    # Divide the data by race/ethnicity\n",
    "    # 1.) Mexican American: 1-2\n",
    "    # 2.) White: 3\n",
    "    # 3.) African-American: 4\n",
    "    # 4.) Other Race: 5\n",
    "    if merged_data.at[index,'RIDRETH1'] == 1 or merged_data.at[index,'RIDRETH1'] == 2:\n",
    "        merged_data.at[index,'RACE'] = 1\n",
    "    elif merged_data.at[index,'RIDRETH1'] == 3:\n",
    "        merged_data.at[index,'RACE'] = 2\n",
    "    elif merged_data.at[index,'RIDRETH1'] == 4:\n",
    "        merged_data.at[index,'RACE'] = 3\n",
    "    else:\n",
    "        merged_data.at[index,'RACE'] = 4"
   ]
  },
  {
   "cell_type": "code",
   "execution_count": 82,
   "metadata": {},
   "outputs": [
    {
     "name": "stdout",
     "output_type": "stream",
     "text": [
      "0.0    4730\n",
      "1.0     432\n",
      "Name: DEPRESSED, dtype: int64\n",
      "1.0    3185\n",
      "2.0    1977\n",
      "Name: AGEGRP, dtype: int64\n",
      "1.0    2474\n",
      "2.0    1063\n",
      "3.0     902\n",
      "4.0     723\n",
      "Name: MARITALSTATUS, dtype: int64\n",
      "2.0    2300\n",
      "1.0    2122\n",
      "3.0     740\n",
      "Name: PIR, dtype: int64\n",
      "2.0    2639\n",
      "1.0    2523\n",
      "Name: GENDER, dtype: int64\n",
      "3.0    1476\n",
      "2.0    1269\n",
      "4.0    1217\n",
      "1.0    1200\n",
      "Name: EDUCATION, dtype: int64\n",
      "2.0    1717\n",
      "1.0    1596\n",
      "3.0    1105\n",
      "4.0     744\n",
      "Name: RACE, dtype: int64\n",
      "\n",
      "Variables, n= 5162\n"
     ]
    }
   ],
   "source": [
    "# pandas count distinct values in column\n",
    "merged_data = merged_data.rename(columns={'RIAGENDR': 'GENDER'})\n",
    "\n",
    "print(merged_data['DEPRESSED'].value_counts())\n",
    "print(merged_data['AGEGRP'].value_counts())\n",
    "print(merged_data['MARITALSTATUS'].value_counts())\n",
    "print(merged_data['PIR'].value_counts())\n",
    "print(merged_data['GENDER'].value_counts())\n",
    "print(merged_data['EDUCATION'].value_counts())\n",
    "print(merged_data['RACE'].value_counts())\n",
    "\n",
    "print('\\nVariables, n=', merged_data.shape[0])"
   ]
  },
  {
   "cell_type": "code",
   "execution_count": 83,
   "metadata": {},
   "outputs": [],
   "source": [
    "# Export the merged files to a csv\n",
    "header = ['SEQN', 'DEPRESSED', 'AGEGRP', 'MARITALSTATUS', 'PIR', 'GENDER', 'RACE', 'EDUCATION']\n",
    "merged_data.to_csv('./mergeddata.csv', columns=header)"
   ]
  },
  {
   "cell_type": "code",
   "execution_count": 84,
   "metadata": {},
   "outputs": [
    {
     "data": {
      "text/plain": [
       "5162"
      ]
     },
     "execution_count": 84,
     "metadata": {},
     "output_type": "execute_result"
    }
   ],
   "source": [
    "merged_data.shape[0]"
   ]
  }
 ],
 "metadata": {
  "kernelspec": {
   "display_name": "Python 3",
   "language": "python",
   "name": "python3"
  },
  "language_info": {
   "codemirror_mode": {
    "name": "ipython",
    "version": 3
   },
   "file_extension": ".py",
   "mimetype": "text/x-python",
   "name": "python",
   "nbconvert_exporter": "python",
   "pygments_lexer": "ipython3",
   "version": "3.11.0"
  },
  "orig_nbformat": 4,
  "vscode": {
   "interpreter": {
    "hash": "1a1af0ee75eeea9e2e1ee996c87e7a2b11a0bebd85af04bb136d915cefc0abce"
   }
  }
 },
 "nbformat": 4,
 "nbformat_minor": 2
}
